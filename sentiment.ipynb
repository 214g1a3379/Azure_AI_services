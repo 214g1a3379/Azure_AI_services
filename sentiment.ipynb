{
 "cells": [
  {
   "cell_type": "code",
   "execution_count": 3,
   "id": "95d81cd2",
   "metadata": {},
   "outputs": [
    {
     "name": "stdout",
     "output_type": "stream",
     "text": [
      "Sentiment is : positive\n",
      "positive : 0.99\n",
      "Neutral: 0.0\n",
      "Negative : 0.0\n",
      "-------------------------------------------------------\n",
      "Sentiment is : positive\n",
      "positive : 1.0\n",
      "Neutral: 0.0\n",
      "Negative : 0.0\n",
      "-------------------------------------------------------\n",
      "Sentiment is : neutral\n",
      "positive : 0.0\n",
      "Neutral: 1.0\n",
      "Negative : 0.0\n",
      "-------------------------------------------------------\n",
      "Sentiment is : negative\n",
      "positive : 0.0\n",
      "Neutral: 0.0\n",
      "Negative : 1.0\n",
      "-------------------------------------------------------\n",
      "Sentiment is : neutral\n",
      "positive : 0.09\n",
      "Neutral: 0.85\n",
      "Negative : 0.05\n",
      "-------------------------------------------------------\n"
     ]
    }
   ],
   "source": [
    "#install dependencies\n",
    "#pip install azure-ai-textanalytics\n",
    "from azure.ai.textanalytics import TextAnalyticsClient\n",
    "from azure.core.credentials import AzureKeyCredential\n",
    "from dotenv import load_dotenv\n",
    "\n",
    "endpoint = \"https://sentiment7.cognitiveservices.azure.com/\"\n",
    "key = \"659722a7d3b4477e904f6c51059251b3\"\n",
    "\n",
    "credential=AzureKeyCredential(key)\n",
    "client=TextAnalyticsClient(endpoint=endpoint,credential=credential)\n",
    "\n",
    "sentences=[\n",
    "    \"I'm thrilled with the new features of this product. It’s exactly what I needed!\",\n",
    "    \"I love the ambiance and the food at this restaurant!\",\n",
    "    \"I attended the meeting yesterday and took some notes.\",\n",
    "    \"I wouldn’t recommend this place due to poor service and high prices.\",\n",
    "    \"I’ve had better experiences, but this was okay.\"\n",
    "]\n",
    "\n",
    "result=client.analyze_sentiment(documents=sentences)\n",
    "\n",
    "for i in result:\n",
    "    #print(i)\n",
    "    print(f\"Sentiment is : {i.sentiment}\")\n",
    "    print(f\"positive : {i.confidence_scores.positive}\")\n",
    "    print(f\"Neutral: {i.confidence_scores.neutral}\")\n",
    "    print(f\"Negative : {i.confidence_scores.negative}\")\n",
    "    print(\"-------------------------------------------------------\")"
   ]
  }
 ],
 "metadata": {
  "kernelspec": {
   "display_name": "Python 3 (ipykernel)",
   "language": "python",
   "name": "python3"
  },
  "language_info": {
   "codemirror_mode": {
    "name": "ipython",
    "version": 3
   },
   "file_extension": ".py",
   "mimetype": "text/x-python",
   "name": "python",
   "nbconvert_exporter": "python",
   "pygments_lexer": "ipython3",
   "version": "3.10.2"
  }
 },
 "nbformat": 4,
 "nbformat_minor": 5
}
