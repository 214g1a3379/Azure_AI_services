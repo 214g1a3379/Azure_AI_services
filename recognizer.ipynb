{
 "cells": [
  {
   "cell_type": "code",
   "execution_count": 6,
   "id": "e6d29060",
   "metadata": {},
   "outputs": [
    {
     "name": "stdout",
     "output_type": "stream",
     "text": [
      "Speak into your microphone.\n",
      "Recognized: Deep learning is a type of machine learning that uses artificial neural networks to teach computers to process data in a way that mimics the human brain. Deep learning is well suited for tasks that require high degree of pattern recognition, such as image classification, object detection, natural language processing, and speech recognition.\n"
     ]
    }
   ],
   "source": [
    "import azure.cognitiveservices.speech as speechsdk\n",
    "\n",
    "sub_key=\"EmG1BTjqnyMjeIz1Q8qQ9eGYD5NRafpMXuJSJXcnNvP0hHHTSlsKJQQJ99AKACYeBjFXJ3w3AAAYACOGk1DD\"\n",
    "region=\"eastus\"\n",
    "\n",
    "config=speechsdk.SpeechConfig(subscription=sub_key,region=region)\n",
    "#config.speech_recognition_language=\"te-IN\"\n",
    "\n",
    "#audio_config = speechsdk.audio.AudioConfig(use_default_microphone=True)\n",
    "speech_recognizer = speechsdk.SpeechRecognizer(speech_config=config)\n",
    "\n",
    "print(\"Speak into your microphone.\")\n",
    "speech_recognition_result = speech_recognizer.recognize_once()\n",
    "\n",
    "if speech_recognition_result.reason == speechsdk.ResultReason.RecognizedSpeech:\n",
    "    print(\"Recognized: {}\".format(speech_recognition_result.text))\n",
    "elif speech_recognition_result.reason == speechsdk.ResultReason.NoMatch:\n",
    "    print(\"No speech could be recognized: {}\".format(speech_recognition_result.no_match_details))\n",
    "elif speech_recognition_result.reason == speechsdk.ResultReason.Canceled:\n",
    "    cancellation_details = speech_recognition_result.cancellation_details\n",
    "    print(\"Speech Recognition canceled: {}\".format(cancellation_details.reason))\n",
    "    if cancellation_details.reason == speechsdk.CancellationReason.Error:\n",
    "        print(\"Error details: {}\".format(cancellation_details.error_details))\n",
    "            \n",
    "\n"
   ]
  }
 ],
 "metadata": {
  "kernelspec": {
   "display_name": "Python 3 (ipykernel)",
   "language": "python",
   "name": "python3"
  },
  "language_info": {
   "codemirror_mode": {
    "name": "ipython",
    "version": 3
   },
   "file_extension": ".py",
   "mimetype": "text/x-python",
   "name": "python",
   "nbconvert_exporter": "python",
   "pygments_lexer": "ipython3",
   "version": "3.10.2"
  }
 },
 "nbformat": 4,
 "nbformat_minor": 5
}
