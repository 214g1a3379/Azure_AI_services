{
 "cells": [
  {
   "cell_type": "code",
   "execution_count": 4,
   "id": "dce1dd6e",
   "metadata": {},
   "outputs": [
    {
     "name": "stdout",
     "output_type": "stream",
     "text": [
      "Defaulting to user installation because normal site-packages is not writeable\n",
      "Requirement already satisfied: azure-cognitiveservices-speech in c:\\users\\hp\\appdata\\roaming\\python\\python310\\site-packages (1.41.1)\n",
      "Note: you may need to restart the kernel to use updated packages.\n"
     ]
    },
    {
     "name": "stderr",
     "output_type": "stream",
     "text": [
      "\n",
      "[notice] A new release of pip is available: 24.1.2 -> 24.3.1\n",
      "[notice] To update, run: python.exe -m pip install --upgrade pip\n"
     ]
    }
   ],
   "source": [
    "pip install azure-cognitiveservices-speech"
   ]
  },
  {
   "cell_type": "code",
   "execution_count": 5,
   "id": "02df9bdc",
   "metadata": {},
   "outputs": [],
   "source": [
    "import azure.cognitiveservices.speech as speechsdk"
   ]
  },
  {
   "cell_type": "code",
   "execution_count": 10,
   "id": "d67f5de5",
   "metadata": {},
   "outputs": [
    {
     "name": "stdout",
     "output_type": "stream",
     "text": [
      "Started....\n",
      "SynthesizingAudioCompleted result\n"
     ]
    }
   ],
   "source": [
    "#pip install azure-cognitiveservices-speech\n",
    "import azure.cognitiveservices.speech as speechsdk\n",
    "\n",
    "key=\"EmG1BTjqnyMjeIz1Q8qQ9eGYD5NRafpMXuJSJXcnNvP0hHHTSlsKJQQJ99AKACYeBjFXJ3w3AAAYACOGk1DD\"\n",
    "region=\"eastus\"\n",
    "\n",
    "config=speechsdk.SpeechConfig(subscription=key,region=region)\n",
    "\n",
    "#audio_config = speechsdk.audio.AudioOutputConfig(use_default_speaker=True)\n",
    "config.speech_synthesis_voice_name=\"en-Us-AvaMultilingualNeural\"\n",
    "synthesizor=speechsdk.SpeechSynthesizer(speech_config=config)\n",
    "\n",
    "\n",
    "text=\"Here the climate is cool\"\n",
    "print(\"Started....\")\n",
    "\n",
    "result=synthesizor.speak_text(text)\n",
    "\n",
    "if result.reason==speechsdk.ResultReason.SynthesizingAudioCompleted:\n",
    "    print(\"SynthesizingAudioCompleted result\")\n",
    "elif result.reason==speechsdk.ResultReason.Canceled:\n",
    "    cancellation_details=result.cancellation_details\n",
    "    print(f\"Speech synthesis canceled: {cancellation_details}\")\n",
    "    if cancellation_details.reason==speechsdk.CancellationReason.Error:\n",
    "        if cancellation_details.error_details:\n",
    "            print(\"Error details: {}\".format(cancellation_details.error_details))\n"
   ]
  },
  {
   "cell_type": "code",
   "execution_count": null,
   "id": "b63544de",
   "metadata": {},
   "outputs": [],
   "source": []
  }
 ],
 "metadata": {
  "kernelspec": {
   "display_name": "Python 3 (ipykernel)",
   "language": "python",
   "name": "python3"
  },
  "language_info": {
   "codemirror_mode": {
    "name": "ipython",
    "version": 3
   },
   "file_extension": ".py",
   "mimetype": "text/x-python",
   "name": "python",
   "nbconvert_exporter": "python",
   "pygments_lexer": "ipython3",
   "version": "3.10.2"
  }
 },
 "nbformat": 4,
 "nbformat_minor": 5
}
